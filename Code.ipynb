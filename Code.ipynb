you can find code here
