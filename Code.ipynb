import math

def barlow_thickness(P, D, S, E=1.0):
    """
    Calculate pipe wall thickness using Barlow's Formula.
    P: Internal pressure (psi or Pa)
    D: Outside diameter (in or mm)
    S: Allowable stress (psi or Pa)
    E: Weld joint efficiency (default=1.0 for seamless pipes)
    """
    t = (P * D) / (2 * S * E)
    return t

def asme_b31_3_thickness(P, D, S, Y, E=1.0):
    """
    Calculate pipe wall thickness using ASME B31.3 formula.
    P: Internal pressure (psi or Pa)
    D: Outside diameter (in or mm)
    S: Allowable stress (psi or Pa)
    Y: Wall thickness coefficient (usually 0.4 for typical steel pipes)
    E: Weld joint efficiency (default=1.0 for seamless pipes)
    """
    t = (P * D) / (2 * (S * E + P * Y))
    return t

if __name__ == "__main__":
    # User inputs
    P = float(input("Enter internal pressure (psi or Pa): "))
    D = float(input("Enter pipe outside diameter (in or mm): "))
    S = float(input("Enter allowable stress (psi or Pa): "))
    Y = float(input("Enter wall thickness coefficient (Y) [ASME B31.3]: "))
    E = float(input("Enter weld joint efficiency (default=1.0 for seamless pipes): ") or 1.0)

    # Calculate thickness using both formulas
    t_barlow = barlow_thickness(P, D, S, E)
    t_asme = asme_b31_3_thickness(P, D, S, Y, E)

    # Print results
    print("\nCalculated Pipe Thickness:")
    print(f"Barlow's Formula: {t_barlow:.4f} units")
    print(f"ASME B31.3: {t_asme:.4f} units")
